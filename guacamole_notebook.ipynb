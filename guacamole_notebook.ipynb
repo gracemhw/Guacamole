{
 "cells": [
  {
   "cell_type": "markdown",
   "id": "5c6d082b",
   "metadata": {},
   "source": [
    "### Sample Jupyter Notebook\n",
    "\n",
    "This notebook contains sample code for the github workshop"
   ]
  },
  {
   "cell_type": "markdown",
   "id": "3741d346",
   "metadata": {},
   "source": [
    "print(\"hello\")"
   ]
  },
  {
   "cell_type": "code",
   "execution_count": null,
   "id": "c7cb7383",
   "metadata": {},
   "outputs": [],
   "source": []
  }
 ],
 "metadata": {
  "kernelspec": {
   "display_name": "Python 3 (ipykernel)",
   "language": "python",
   "name": "python3"
  },
  "language_info": {
   "codemirror_mode": {
    "name": "ipython",
    "version": 3
   },
   "file_extension": ".py",
   "mimetype": "text/x-python",
   "name": "python",
   "nbconvert_exporter": "python",
   "pygments_lexer": "ipython3",
   "version": "3.9.7"
  }
 },
 "nbformat": 4,
 "nbformat_minor": 5
}
